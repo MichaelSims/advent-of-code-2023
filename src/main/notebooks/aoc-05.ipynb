{
 "cells": [
  {
   "cell_type": "markdown",
   "source": [
    "# Puzzle Input"
   ],
   "metadata": {
    "collapsed": false
   }
  },
  {
   "cell_type": "markdown",
   "source": [
    "## Sample Input"
   ],
   "metadata": {
    "collapsed": false
   }
  },
  {
   "cell_type": "code",
   "execution_count": 1,
   "outputs": [],
   "source": [
    "val sampleInput = \"\"\"\n",
    "seeds: 79 14 55 13\n",
    "\n",
    "seed-to-soil map:\n",
    "50 98 2\n",
    "52 50 48\n",
    "\n",
    "soil-to-fertilizer map:\n",
    "0 15 37\n",
    "37 52 2\n",
    "39 0 15\n",
    "\n",
    "fertilizer-to-water map:\n",
    "49 53 8\n",
    "0 11 42\n",
    "42 0 7\n",
    "57 7 4\n",
    "\n",
    "water-to-light map:\n",
    "88 18 7\n",
    "18 25 70\n",
    "\n",
    "light-to-temperature map:\n",
    "45 77 23\n",
    "81 45 19\n",
    "68 64 13\n",
    "\n",
    "temperature-to-humidity map:\n",
    "0 69 1\n",
    "1 0 69\n",
    "\n",
    "humidity-to-location map:\n",
    "60 56 37\n",
    "56 93 4\n",
    "\"\"\".trimIndent()"
   ],
   "metadata": {
    "collapsed": false,
    "ExecuteTime": {
     "end_time": "2023-12-05T17:13:18.207695Z",
     "start_time": "2023-12-05T17:13:18.104198Z"
    }
   }
  },
  {
   "cell_type": "markdown",
   "source": [
    "## Actual Input"
   ],
   "metadata": {
    "collapsed": false
   }
  },
  {
   "cell_type": "code",
   "execution_count": 2,
   "outputs": [],
   "source": [
    "val actualInput = \"\"\"\n",
    "...\n",
    "\"\"\".trimIndent()"
   ],
   "metadata": {
    "collapsed": false,
    "ExecuteTime": {
     "end_time": "2023-12-05T17:13:19.450761Z",
     "start_time": "2023-12-05T17:13:19.392406Z"
    }
   }
  },
  {
   "cell_type": "markdown",
   "source": [
    "# Part 1"
   ],
   "metadata": {
    "collapsed": false
   }
  },
  {
   "cell_type": "code",
   "execution_count": 3,
   "outputs": [],
   "source": [
    "data class Entity(val type: String, val id: Long)\n",
    "data class RangeMapping(val srcRange: LongRange, val offset: Long)\n",
    "data class TypeMapping(val srcType: String, val destType: String, val mappings: List<RangeMapping>)"
   ],
   "metadata": {
    "collapsed": false,
    "ExecuteTime": {
     "end_time": "2023-12-05T17:13:20.874107Z",
     "start_time": "2023-12-05T17:13:20.610927Z"
    }
   }
  },
  {
   "cell_type": "code",
   "execution_count": 4,
   "outputs": [],
   "source": [
    "fun getSeeds(lines: List<String>): List<Entity> {\n",
    "    val regex = \"^seeds:\\\\s+(.*)$\".toRegex()\n",
    "    val seedIds = lines.firstNotNullOf { line -> regex.matchEntire(line) }.groupValues[1].split(\" \")\n",
    "    return seedIds.map { Entity(\"seed\", it.toLong()) }\n",
    "}"
   ],
   "metadata": {
    "collapsed": false,
    "ExecuteTime": {
     "end_time": "2023-12-05T17:13:21.352735Z",
     "start_time": "2023-12-05T17:13:21.086189Z"
    }
   }
  },
  {
   "cell_type": "code",
   "execution_count": 5,
   "outputs": [],
   "source": [
    "fun parse(input: List<String>): Map<String, TypeMapping> {\n",
    "    val sectionRegex = \"^(.*?)-to-(.*?) map:\".toRegex()\n",
    "    return input\n",
    "        .drop(2)\n",
    "        .fold(emptyList<Pair<String, TypeMapping>>()) { pairs, line ->\n",
    "            val matchResult = sectionRegex.matchEntire(line)\n",
    "            if (matchResult != null) {\n",
    "                val srcType = matchResult.groupValues[1]\n",
    "                val destType = matchResult.groupValues[2]\n",
    "                val newPair = srcType to TypeMapping(srcType, destType, emptyList())\n",
    "                pairs + newPair\n",
    "            } else if (line.isBlank()) {\n",
    "                pairs\n",
    "            } else {\n",
    "                val (type, typeMapping) = pairs.last()\n",
    "                val nums = line.split(\" \")\n",
    "                check(nums.size == 3)\n",
    "                val (destRangeStart, srcRangeStart, rangeLength) = nums.map(String::toLong)\n",
    "                val newRangeMapping = RangeMapping(\n",
    "                    srcRange = srcRangeStart..srcRangeStart + rangeLength - 1,\n",
    "                    offset = destRangeStart - srcRangeStart\n",
    "                )\n",
    "                val newPair = type to typeMapping.copy(mappings = typeMapping.mappings + newRangeMapping)\n",
    "                pairs.dropLast(1) + newPair\n",
    "            }\n",
    "        }\n",
    "        .toMap()\n",
    "}\n",
    "\n",
    "fun getFinalId(entity: Entity, typeMappings: Map<String, TypeMapping>): Entity =\n",
    "    generateSequence(entity) { nextEntity ->\n",
    "        typeMappings[nextEntity.type]\n",
    "            ?.let { typeMapping ->\n",
    "                val rangeMapping = typeMapping.mappings.firstOrNull { it.srcRange.contains(nextEntity.id) }\n",
    "                Entity(typeMapping.destType, nextEntity.id + (rangeMapping?.offset ?: 0))\n",
    "            }\n",
    "    }.last()"
   ],
   "metadata": {
    "collapsed": false,
    "ExecuteTime": {
     "end_time": "2023-12-05T17:13:22.172628Z",
     "start_time": "2023-12-05T17:13:21.648613Z"
    }
   }
  },
  {
   "cell_type": "code",
   "execution_count": 6,
   "outputs": [],
   "source": [
    "fun findNearestLocation(input: List<String>): Long {\n",
    "    val seeds = getSeeds(input)\n",
    "    val map = parse(input)\n",
    "    return seeds.asSequence().map { seed -> getFinalId(seed, map) }.map(Entity::id).min()\n",
    "}"
   ],
   "metadata": {
    "collapsed": false,
    "ExecuteTime": {
     "end_time": "2023-12-05T17:13:22.584319Z",
     "start_time": "2023-12-05T17:13:22.459269Z"
    }
   }
  },
  {
   "cell_type": "code",
   "execution_count": 7,
   "outputs": [
    {
     "data": {
      "text/plain": "173706076"
     },
     "execution_count": 7,
     "metadata": {},
     "output_type": "execute_result"
    }
   ],
   "source": [
    "findNearestLocation(actualInput.lines())\n",
    "\n",
    "//173706076"
   ],
   "metadata": {
    "collapsed": false,
    "ExecuteTime": {
     "end_time": "2023-12-05T17:13:23.261180Z",
     "start_time": "2023-12-05T17:13:23.207560Z"
    }
   }
  },
  {
   "cell_type": "markdown",
   "source": [
    "# Part 2"
   ],
   "metadata": {
    "collapsed": false
   }
  },
  {
   "cell_type": "code",
   "execution_count": 8,
   "outputs": [],
   "source": [
    "fun getSeedsAsRange(lines: List<String>): Sequence<LongRange> {\n",
    "    val regex = \"^seeds:\\\\s+(.*)$\".toRegex()\n",
    "    val seedNums = lines.firstNotNullOf { line -> regex.matchEntire(line) }.groupValues[1].split(\" \")\n",
    "    return seedNums\n",
    "        .asSequence()\n",
    "        .chunked(2)\n",
    "        .map { (startNumStr, lengthStr) ->\n",
    "            val startNum = startNumStr.toLong()\n",
    "            val length = lengthStr.toLong()\n",
    "            val longRange = startNum until startNum + length\n",
    "            println(longRange.count())\n",
    "            longRange\n",
    "        }\n",
    "}"
   ],
   "metadata": {
    "collapsed": false,
    "ExecuteTime": {
     "end_time": "2023-12-05T17:13:27.377171Z",
     "start_time": "2023-12-05T17:13:27.265235Z"
    }
   }
  },
  {
   "cell_type": "code",
   "execution_count": 9,
   "outputs": [],
   "source": [
    "import java.util.Spliterators\n",
    "import java.util.Spliterator\n",
    "import java.util.stream.Stream\n",
    "import java.util.stream.StreamSupport\n",
    "\n",
    "fun <T> Sequence<T>.asStream(): Stream<T> =\n",
    "    StreamSupport.stream(\n",
    "        { Spliterators.spliteratorUnknownSize(iterator(), Spliterator.ORDERED) },\n",
    "        Spliterator.ORDERED,\n",
    "        false\n",
    "    )\n",
    "\n",
    "fun findNearestLocationPart2(input: List<String>): Long {\n",
    "    val seeds = getSeedsAsRange(input)\n",
    "    val map = parse(input)\n",
    "    return seeds\n",
    "        .asStream()\n",
    "        .parallel()\n",
    "        .map { idRange ->\n",
    "            idRange\n",
    "                .asSequence()\n",
    "                .asStream()\n",
    "                .parallel()\n",
    "                .also { println(\"ID range $it\") }\n",
    "                .map { seedId ->\n",
    "                    getFinalId(Entity(\"seed\", seedId), map).id\n",
    "                }\n",
    "                .min(Comparator { a, b -> a.compareTo(b) })\n",
    "                .get()\n",
    "        }\n",
    "        .min(Comparator { a, b -> a.compareTo(b) })\n",
    "        .get()\n",
    "}"
   ],
   "metadata": {
    "collapsed": false,
    "ExecuteTime": {
     "end_time": "2023-12-05T17:13:29.941829Z",
     "start_time": "2023-12-05T17:13:29.686672Z"
    }
   }
  },
  {
   "cell_type": "code",
   "execution_count": 10,
   "outputs": [
    {
     "name": "stdout",
     "output_type": "stream",
     "text": [
      "56936593\n",
      "267019426\n",
      "252409474\n",
      "92561087\n",
      "24162055\n",
      "63600948\n",
      "323477533\n",
      "54368890\n",
      "475537300\n",
      "427659734\n",
      "ID range java.util.stream.ReferencePipeline$Head@178a628e\n",
      "ID range java.util.stream.ReferencePipeline$Head@6563f88c\n",
      "ID range java.util.stream.ReferencePipeline$Head@3436fbd1\n",
      "ID range java.util.stream.ReferencePipeline$Head@24a4d763\n",
      "ID range java.util.stream.ReferencePipeline$Head@4e763388\n",
      "ID range java.util.stream.ReferencePipeline$Head@342b0552\n",
      "ID range java.util.stream.ReferencePipeline$Head@37408875\n",
      "ID range java.util.stream.ReferencePipeline$Head@355d5e31\n",
      "ID range java.util.stream.ReferencePipeline$Head@4a48c161\n",
      "ID range java.util.stream.ReferencePipeline$Head@26a54cef\n"
     ]
    },
    {
     "data": {
      "text/plain": "11611182"
     },
     "execution_count": 10,
     "metadata": {},
     "output_type": "execute_result"
    }
   ],
   "source": [
    "findNearestLocationPart2(actualInput.lines())\n",
    "\n",
    "// 11611182\n"
   ],
   "metadata": {
    "collapsed": false,
    "ExecuteTime": {
     "end_time": "2023-12-05T17:16:40.331522Z",
     "start_time": "2023-12-05T17:13:33.065276Z"
    }
   }
  },
  {
   "cell_type": "code",
   "execution_count": null,
   "outputs": [],
   "source": [],
   "metadata": {
    "collapsed": false
   }
  }
 ],
 "metadata": {
  "kernelspec": {
   "display_name": "Kotlin",
   "language": "kotlin",
   "name": "kotlin"
  },
  "language_info": {
   "name": "kotlin",
   "version": "1.9.0",
   "mimetype": "text/x-kotlin",
   "file_extension": ".kt",
   "pygments_lexer": "kotlin",
   "codemirror_mode": "text/x-kotlin",
   "nbconvert_exporter": ""
  }
 },
 "nbformat": 4,
 "nbformat_minor": 0
}
