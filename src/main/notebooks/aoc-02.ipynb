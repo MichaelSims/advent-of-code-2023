{
 "cells": [
  {
   "cell_type": "markdown",
   "source": [
    "# Part One"
   ],
   "metadata": {
    "collapsed": false
   }
  },
  {
   "cell_type": "code",
   "execution_count": 48,
   "metadata": {
    "collapsed": true,
    "ExecuteTime": {
     "end_time": "2023-12-02T13:37:26.596533Z",
     "start_time": "2023-12-02T13:37:26.458300Z"
    }
   },
   "outputs": [
    {
     "data": {
      "text/plain": "2268"
     },
     "execution_count": 48,
     "metadata": {},
     "output_type": "execute_result"
    }
   ],
   "source": [
    "data class Game(val id: Int, val samples: List<Sample>)\n",
    "data class Sample(val red: Int, val green: Int, val blue: Int)\n",
    "\n",
    "val gameIdRegex = \"^Game (\\\\d+): (.*)$\".toRegex()\n",
    "val numAndColorRegex = \"(\\\\d+) (red|green|blue)\".toRegex()\n",
    "val games = input\n",
    "    .lines()\n",
    "    .map {\n",
    "        val (gameId, samplesString) = gameIdRegex.matchEntire(it)!!.destructured\n",
    "        val samples = samplesString.split(\";\").toList()\n",
    "        Game(gameId.toInt(), samples.map { sample ->\n",
    "            val colorMap = sample\n",
    "                .split(\",\")\n",
    "                .flatMap { numAndColorString ->\n",
    "                    numAndColorRegex\n",
    "                        .findAll(numAndColorString)\n",
    "                        .toList()\n",
    "                        .map {\n",
    "                            val (num, color) = it.destructured\n",
    "                            color to num.toInt()\n",
    "                        }\n",
    "                }\n",
    "                .toMap()\n",
    "            Sample(colorMap[\"red\"] ?: 0, colorMap[\"green\"] ?: 0, colorMap[\"blue\"] ?: 0)\n",
    "        })\n",
    "    }\n",
    "\n",
    "games\n",
    "    .filter { game ->\n",
    "        game.samples.maxOf { it.red } <= 12 && game.samples.maxOf { it.green } <= 13 && game.samples.maxOf { it.blue } <= 14\n",
    "    }\n",
    "    .sumOf { it.id }\n",
    "\n"
   ]
  },
  {
   "cell_type": "markdown",
   "source": [
    "# Part Two"
   ],
   "metadata": {
    "collapsed": false
   }
  },
  {
   "cell_type": "code",
   "execution_count": 52,
   "outputs": [
    {
     "data": {
      "text/plain": "63542"
     },
     "execution_count": 52,
     "metadata": {},
     "output_type": "execute_result"
    }
   ],
   "source": [
    "games\n",
    "    .map { game -> game.samples.maxOf { it.red } * game.samples.maxOf { it.green } * game.samples.maxOf { it.blue } }\n",
    "    .sum()"
   ],
   "metadata": {
    "collapsed": false,
    "ExecuteTime": {
     "end_time": "2023-12-02T13:40:47.628034Z",
     "start_time": "2023-12-02T13:40:47.568660Z"
    }
   }
  },
  {
   "cell_type": "markdown",
   "source": [],
   "metadata": {
    "collapsed": false
   }
  },
  {
   "cell_type": "markdown",
   "source": [
    "# Puzzle Input"
   ],
   "metadata": {
    "collapsed": false
   }
  }
 ],
 "metadata": {
  "kernelspec": {
   "display_name": "Kotlin",
   "language": "kotlin",
   "name": "kotlin"
  },
  "language_info": {
   "name": "kotlin",
   "version": "1.9.0",
   "mimetype": "text/x-kotlin",
   "file_extension": ".kt",
   "pygments_lexer": "kotlin",
   "codemirror_mode": "text/x-kotlin",
   "nbconvert_exporter": ""
  }
 },
 "nbformat": 4,
 "nbformat_minor": 0
}
