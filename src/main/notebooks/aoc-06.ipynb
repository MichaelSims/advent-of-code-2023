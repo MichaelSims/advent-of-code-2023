{
 "cells": [
  {
   "cell_type": "markdown",
   "source": [
    "# Puzzle Input"
   ],
   "metadata": {
    "collapsed": false
   }
  },
  {
   "cell_type": "markdown",
   "source": [
    "## Sample Input"
   ],
   "metadata": {
    "collapsed": false
   }
  },
  {
   "cell_type": "code",
   "execution_count": 41,
   "outputs": [],
   "source": [
    "val sampleInput = \"\"\"\n",
    "Time:      7  15   30\n",
    "Distance:  9  40  200\n",
    "\"\"\".trimIndent()"
   ],
   "metadata": {
    "collapsed": false,
    "ExecuteTime": {
     "end_time": "2023-12-06T12:58:53.177102Z",
     "start_time": "2023-12-06T12:58:53.150544Z"
    }
   }
  },
  {
   "cell_type": "markdown",
   "source": [
    "## Actual Input"
   ],
   "metadata": {
    "collapsed": false
   }
  },
  {
   "cell_type": "code",
   "execution_count": 42,
   "outputs": [],
   "source": [
    "val actualInput = \"\"\"\n",
    "...\n",
    "\"\"\".trimIndent()"
   ],
   "metadata": {
    "collapsed": false,
    "ExecuteTime": {
     "end_time": "2023-12-06T12:58:54.384701Z",
     "start_time": "2023-12-06T12:58:54.355717Z"
    }
   }
  },
  {
   "cell_type": "markdown",
   "source": [
    "# Part 1"
   ],
   "metadata": {
    "collapsed": false
   }
  },
  {
   "cell_type": "code",
   "execution_count": 43,
   "outputs": [],
   "source": [
    "data class Race(val duration: Long, val recordDistance: Long)\n",
    "\n",
    "fun parsePart1(input: List<String>): List<Race> {\n",
    "    val (ds, rds) = input.chunked(2).single()\n",
    "    fun String.parseLine(): List<Long> = split(\"\\\\s+\".toRegex()).mapNotNull(String::toLongOrNull)\n",
    "    return ds.parseLine().zip(rds.parseLine()).map { (d, rd) -> Race(d, rd) }\n",
    "}"
   ],
   "metadata": {
    "collapsed": false,
    "ExecuteTime": {
     "end_time": "2023-12-06T12:58:55.687773Z",
     "start_time": "2023-12-06T12:58:55.601006Z"
    }
   }
  },
  {
   "cell_type": "code",
   "execution_count": 44,
   "outputs": [],
   "source": [
    "fun part1(races: List<Race>): Int {\n",
    "    return races\n",
    "        .map { race ->\n",
    "            (0..race.duration)\n",
    "                .map { buttonDuration ->\n",
    "                    val speed = buttonDuration\n",
    "                    val remainingTime = race.duration - buttonDuration\n",
    "                    val distanceTraveled = speed * remainingTime\n",
    "                    buttonDuration to distanceTraveled\n",
    "                }\n",
    "                .mapNotNull { (buttonDuration, distanceTraveled) -> buttonDuration.takeIf { distanceTraveled > race.recordDistance } }\n",
    "        }\n",
    "        .map { it.size }\n",
    "        .reduce { a, b -> a * b }\n",
    "}"
   ],
   "metadata": {
    "collapsed": false,
    "ExecuteTime": {
     "end_time": "2023-12-06T12:58:56.249487Z",
     "start_time": "2023-12-06T12:58:56.161001Z"
    }
   }
  },
  {
   "cell_type": "code",
   "execution_count": 45,
   "outputs": [
    {
     "data": {
      "text/plain": "1312850"
     },
     "execution_count": 45,
     "metadata": {},
     "output_type": "execute_result"
    }
   ],
   "source": [
    "part1(parsePart1(actualInput.lines()))\n",
    "\n",
    "//1312850"
   ],
   "metadata": {
    "collapsed": false,
    "ExecuteTime": {
     "end_time": "2023-12-06T12:58:56.825872Z",
     "start_time": "2023-12-06T12:58:56.797835Z"
    }
   }
  },
  {
   "cell_type": "markdown",
   "source": [
    "# Part 2"
   ],
   "metadata": {
    "collapsed": false
   }
  },
  {
   "cell_type": "code",
   "execution_count": 46,
   "outputs": [],
   "source": [
    "fun parsePart2(input: List<String>): Race {\n",
    "    val (ds, rds) = input.chunked(2).single()\n",
    "    fun String.parseLine(): Long = split(\"\\\\s+\".toRegex()).mapNotNull(String::toLongOrNull).joinToString(\"\").toLong()\n",
    "    return Race(ds.parseLine(), rds.parseLine())\n",
    "}"
   ],
   "metadata": {
    "collapsed": false,
    "ExecuteTime": {
     "end_time": "2023-12-06T12:58:58.438718Z",
     "start_time": "2023-12-06T12:58:58.367274Z"
    }
   }
  },
  {
   "cell_type": "code",
   "execution_count": 47,
   "outputs": [
    {
     "data": {
      "text/plain": "36749103"
     },
     "execution_count": 47,
     "metadata": {},
     "output_type": "execute_result"
    }
   ],
   "source": [
    "part1(listOf(parsePart2(actualInput.lines())))\n",
    "\n",
    "//36749103"
   ],
   "metadata": {
    "collapsed": false,
    "ExecuteTime": {
     "end_time": "2023-12-06T12:59:01.507968Z",
     "start_time": "2023-12-06T12:58:58.811424Z"
    }
   }
  }
 ],
 "metadata": {
  "kernelspec": {
   "display_name": "Kotlin",
   "language": "kotlin",
   "name": "kotlin"
  },
  "language_info": {
   "name": "kotlin",
   "version": "1.9.0",
   "mimetype": "text/x-kotlin",
   "file_extension": ".kt",
   "pygments_lexer": "kotlin",
   "codemirror_mode": "text/x-kotlin",
   "nbconvert_exporter": ""
  }
 },
 "nbformat": 4,
 "nbformat_minor": 0
}
