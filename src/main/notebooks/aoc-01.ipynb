{
 "cells": [
  {
   "cell_type": "markdown",
   "source": [
    "## Part One"
   ],
   "metadata": {
    "collapsed": false
   }
  },
  {
   "cell_type": "code",
   "execution_count": 2,
   "outputs": [
    {
     "data": {
      "text/plain": "53080"
     },
     "execution_count": 2,
     "metadata": {},
     "output_type": "execute_result"
    }
   ],
   "source": [
    "fun isNum(c: Char) = c in '0'..'9'\n",
    "\n",
    "puzzleInput.lines().fold(0) { acc, s -> acc + (s.first(::isNum).toString() + s.last(::isNum).toString()).toInt() }"
   ],
   "metadata": {
    "collapsed": false,
    "ExecuteTime": {
     "end_time": "2023-12-02T13:14:09.628283Z",
     "start_time": "2023-12-02T13:14:09.217099Z"
    }
   }
  },
  {
   "cell_type": "markdown",
   "source": [
    "## Part Two"
   ],
   "metadata": {
    "collapsed": false
   }
  },
  {
   "cell_type": "code",
   "execution_count": 3,
   "outputs": [
    {
     "data": {
      "text/plain": "53268"
     },
     "execution_count": 3,
     "metadata": {},
     "output_type": "execute_result"
    }
   ],
   "source": [
    "val numberWords = listOf(\"one\", \"two\", \"three\", \"four\", \"five\", \"six\", \"seven\", \"eight\", \"nine\")\n",
    "\n",
    "val regex = \"(?=(${numberWords.joinToString(\"|\")}|[1-9]))\".toRegex()\n",
    "\n",
    "val intVals = numberWords.zip(('1'..'9').map(Char::toString)).toMap()\n",
    "\n",
    "puzzleInput.lines().fold(0) { acc, s ->\n",
    "    fun String.toNumString() = intVals[this] ?: this\n",
    "    val matches = regex.findAll(s).map { it.groupValues[1] }\n",
    "    acc + ((matches.first().toNumString() + matches.last().toNumString()).toInt())\n",
    "}\n"
   ],
   "metadata": {
    "collapsed": false,
    "ExecuteTime": {
     "end_time": "2023-12-02T13:14:11.610231Z",
     "start_time": "2023-12-02T13:14:11.264805Z"
    }
   }
  },
  {
   "cell_type": "markdown",
   "source": [
    "## Puzzle Input"
   ],
   "metadata": {
    "collapsed": false
   }
  }
 ],
 "metadata": {
  "kernelspec": {
   "display_name": "Kotlin",
   "language": "kotlin",
   "name": "kotlin"
  },
  "language_info": {
   "name": "kotlin",
   "version": "1.9.0",
   "mimetype": "text/x-kotlin",
   "file_extension": ".kt",
   "pygments_lexer": "kotlin",
   "codemirror_mode": "text/x-kotlin",
   "nbconvert_exporter": ""
  }
 },
 "nbformat": 4,
 "nbformat_minor": 0
}
