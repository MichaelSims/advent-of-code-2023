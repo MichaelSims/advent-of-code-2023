{
 "cells": [
  {
   "cell_type": "markdown",
   "source": [
    "# Part 1"
   ],
   "metadata": {
    "collapsed": false
   }
  },
  {
   "cell_type": "code",
   "execution_count": 23,
   "metadata": {
    "collapsed": true,
    "ExecuteTime": {
     "end_time": "2023-12-04T18:32:05.628355Z",
     "start_time": "2023-12-04T18:32:05.580706Z"
    }
   },
   "outputs": [],
   "source": [
    "import kotlin.math.pow\n",
    "\n",
    "data class Card(val id: Int, val winningNums: Set<Int>, val numsYouHave: Set<Int>)"
   ]
  },
  {
   "cell_type": "code",
   "execution_count": 24,
   "outputs": [],
   "source": [
    "val regex = \"^Card\\\\s+(\\\\d+):\\\\s+(.*?)\\\\s+\\\\|\\\\s+(.*?)$\".toRegex()\n",
    "val cards = actualInput\n",
    "    .lines()\n",
    "    .map { line ->\n",
    "        val (cardNum, winningNumStr, numsYouHaveStr) = regex.matchEntire(line)!!.destructured\n",
    "        val winningNums = winningNumStr.split(\"\\\\s+\".toRegex()).map(String::toInt)\n",
    "        val numsYouHave = numsYouHaveStr.split(\"\\\\s+\".toRegex()).map(String::toInt)\n",
    "        Card(cardNum.toInt(), winningNums.toSet(), numsYouHave.toSet())\n",
    "    }"
   ],
   "metadata": {
    "collapsed": false,
    "ExecuteTime": {
     "end_time": "2023-12-04T18:32:06.074285Z",
     "start_time": "2023-12-04T18:32:05.962040Z"
    }
   }
  },
  {
   "cell_type": "code",
   "execution_count": 25,
   "outputs": [],
   "source": [
    "val Card.matchingNumbers: Set<Int> get() = winningNums.intersect(numsYouHave)"
   ],
   "metadata": {
    "collapsed": false,
    "ExecuteTime": {
     "end_time": "2023-12-04T18:32:06.747246Z",
     "start_time": "2023-12-04T18:32:06.713451Z"
    }
   }
  },
  {
   "cell_type": "code",
   "execution_count": 26,
   "outputs": [
    {
     "data": {
      "text/plain": "23847"
     },
     "execution_count": 26,
     "metadata": {},
     "output_type": "execute_result"
    }
   ],
   "source": [
    "cards\n",
    "    .map { card ->\n",
    "        2.0.pow(card.matchingNumbers.size - 1).toInt()\n",
    "    }\n",
    "    .sum()\n",
    "\n",
    "// 23847\n",
    "    "
   ],
   "metadata": {
    "collapsed": false,
    "ExecuteTime": {
     "end_time": "2023-12-04T18:32:07.116354Z",
     "start_time": "2023-12-04T18:32:07.071843Z"
    }
   }
  },
  {
   "cell_type": "markdown",
   "source": [
    "# Part 2"
   ],
   "metadata": {
    "collapsed": false
   }
  },
  {
   "cell_type": "code",
   "execution_count": 27,
   "outputs": [
    {
     "data": {
      "text/plain": "8570000"
     },
     "execution_count": 27,
     "metadata": {},
     "output_type": "execute_result"
    }
   ],
   "source": [
    "val cardsById = cards.associateBy(Card::id)\n",
    "\n",
    "val cardQueue: ArrayDeque<Card> = ArrayDeque(cardsById.values)\n",
    "\n",
    "val iterator = cardQueue.listIterator()\n",
    "while (iterator.hasNext()) {\n",
    "    val nextCard = iterator.next()\n",
    "    val numMatches = nextCard.matchingNumbers.size\n",
    "    val copiesWon = (nextCard.id + 1..nextCard.id + numMatches).map { id -> cardsById[id]!! }\n",
    "    cardQueue.addAll(copiesWon)\n",
    "}\n",
    "cardQueue.size\n",
    "\n",
    "// 8570000"
   ],
   "metadata": {
    "collapsed": false,
    "ExecuteTime": {
     "end_time": "2023-12-04T18:32:12.933875Z",
     "start_time": "2023-12-04T18:32:09.361074Z"
    }
   }
  },
  {
   "cell_type": "markdown",
   "source": [
    "# Puzzle Input"
   ],
   "metadata": {
    "collapsed": false
   }
  },
  {
   "cell_type": "markdown",
   "source": [
    "## Sample"
   ],
   "metadata": {
    "collapsed": false
   }
  },
  {
   "cell_type": "code",
   "execution_count": 10,
   "outputs": [],
   "source": [
    "val sampleInput = \"\"\"\n",
    "Card 1: 41 48 83 86 17 | 83 86  6 31 17  9 48 53\n",
    "Card 2: 13 32 20 16 61 | 61 30 68 82 17 32 24 19\n",
    "Card 3:  1 21 53 59 44 | 69 82 63 72 16 21 14  1\n",
    "Card 4: 41 92 73 84 69 | 59 84 76 51 58  5 54 83\n",
    "Card 5: 87 83 26 28 32 | 88 30 70 12 93 22 82 36\n",
    "Card 6: 31 18 13 56 72 | 74 77 10 23 35 67 36 11\n",
    "\"\"\".trimIndent()"
   ],
   "metadata": {
    "collapsed": false,
    "ExecuteTime": {
     "end_time": "2023-12-04T18:25:36.137225Z",
     "start_time": "2023-12-04T18:25:36.093163Z"
    }
   }
  },
  {
   "cell_type": "markdown",
   "source": [
    "## Actual (redact)"
   ],
   "metadata": {
    "collapsed": false
   }
  },
  {
   "cell_type": "code",
   "execution_count": 1,
   "outputs": [],
   "source": [
    "// Redacted"
   ],
   "metadata": {
    "collapsed": false,
    "ExecuteTime": {
     "end_time": "2023-12-04T18:20:19.290863Z",
     "start_time": "2023-12-04T18:20:19.147581Z"
    }
   }
  },
  {
   "cell_type": "markdown",
   "source": [],
   "metadata": {
    "collapsed": false
   }
  }
 ],
 "metadata": {
  "kernelspec": {
   "display_name": "Kotlin",
   "language": "kotlin",
   "name": "kotlin"
  },
  "language_info": {
   "name": "kotlin",
   "version": "1.9.0",
   "mimetype": "text/x-kotlin",
   "file_extension": ".kt",
   "pygments_lexer": "kotlin",
   "codemirror_mode": "text/x-kotlin",
   "nbconvert_exporter": ""
  }
 },
 "nbformat": 4,
 "nbformat_minor": 0
}
