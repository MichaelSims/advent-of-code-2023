{
 "cells": [
  {
   "cell_type": "markdown",
   "source": [
    "# Part One"
   ],
   "metadata": {
    "collapsed": false
   }
  },
  {
   "cell_type": "code",
   "execution_count": 289,
   "outputs": [],
   "source": [
    "data class Point(val x: Int, val y: Int) {\n",
    "    val adjacentPoints: List<Point> by lazy {\n",
    "        buildList {\n",
    "            val rangeWithBorder = (x - 1)..(x + 1)\n",
    "            addAll(rangeWithBorder.map { x -> Point(x, y - 1) }) // Add the line above\n",
    "            addAll(rangeWithBorder.map { x -> Point(x, y + 1) }) // Add the line below\n",
    "            add(Point(x - 1, y)) // Add the point before\n",
    "            add(Point(x + 1, y)) // Add the point after\n",
    "        }.filter { it.x > -1 && it.y > -1 }\n",
    "    }\n",
    "}\n",
    "\n",
    "data class GridNumber(val start: Point, val end: Point, val value: Int, val partial: Boolean = false) {\n",
    "    val xRange: List<Point> get() = (start.x..end.x).map { x -> Point(x, start.y) }\n",
    "    val adjacentPoints: List<Point> = buildList {\n",
    "        val rangeWithBorder = (start.x - 1)..(end.x + 1)\n",
    "        addAll(rangeWithBorder.map { x -> Point(x, start.y - 1) }) // Add the line above\n",
    "        addAll(rangeWithBorder.map { x -> Point(x, start.y + 1) }) // Add the line below\n",
    "        add(Point(start.x - 1, start.y)) // Add the point before\n",
    "        add(Point(end.x + 1, start.y)) // Add the point after\n",
    "    }.filter { it.x > -1 && it.y > -1 }\n",
    "\n",
    "    fun overlaps(point: Point) = point.x >= start.x && point.x <= end.x && point.y == start.y\n",
    "}\n"
   ],
   "metadata": {
    "collapsed": false,
    "ExecuteTime": {
     "end_time": "2023-12-03T16:45:05.966910Z",
     "start_time": "2023-12-03T16:45:05.764204Z"
    }
   }
  },
  {
   "cell_type": "code",
   "execution_count": 290,
   "outputs": [],
   "source": [
    "data class Grid(val map: Map<Point, Char>) : Map<Point, Char> by map {\n",
    "    val numbers: List<GridNumber> =\n",
    "        map.entries.fold<Map.Entry<Point, Char>, List<GridNumber>>(emptyList()) { list, entry ->\n",
    "            val (point, char) = entry\n",
    "            val charAsNum = char.digitToIntOrNull()\n",
    "            val lastNumber = list.lastOrNull()\n",
    "\n",
    "            fun completePartial(lastNumber: GridNumber) = list.replaceLast(lastNumber.copy(partial = false))\n",
    "            fun startNewPartial(num: Int) = list + GridNumber(point, point, num, partial = true)\n",
    "            fun appendToPartial(lastNumber: GridNumber) =\n",
    "                list.replaceLast(lastNumber.copy(end = point, value = lastNumber.value.append(char)))\n",
    "\n",
    "            when {\n",
    "                lastNumber != null && lastNumber.partial ->\n",
    "                    if (charAsNum != null) {\n",
    "                        if (point.y == lastNumber.start.y) {\n",
    "                            appendToPartial(lastNumber)\n",
    "                        } else {\n",
    "                            completePartial(lastNumber)\n",
    "                            startNewPartial(charAsNum)\n",
    "                        }\n",
    "                    } else {\n",
    "                        completePartial(lastNumber)\n",
    "                    }\n",
    "\n",
    "                charAsNum != null -> startNewPartial(charAsNum)\n",
    "                else -> list\n",
    "\n",
    "            }\n",
    "\n",
    "        }\n",
    "\n",
    "    val gears: List<Point> = map.toList().mapNotNull { (point, char) -> if (char == '*') point else null }\n",
    "\n",
    "    private fun Int.append(char: Char) = (toString() + char.toString()).toInt()\n",
    "    private fun <T> List<T>.replaceLast(value: T) = dropLast(1) + value\n",
    "}"
   ],
   "metadata": {
    "collapsed": false,
    "ExecuteTime": {
     "end_time": "2023-12-03T16:45:07.236178Z",
     "start_time": "2023-12-03T16:45:07.132755Z"
    }
   }
  },
  {
   "cell_type": "code",
   "execution_count": 291,
   "outputs": [
    {
     "data": {
      "text/plain": "550064"
     },
     "execution_count": 291,
     "metadata": {},
     "output_type": "execute_result"
    }
   ],
   "source": [
    "val map = input\n",
    "    .lines()\n",
    "    .withIndex()\n",
    "    .flatMap { (y, line) -> line.withIndex().map { (x, char) -> Point(x, y) to char } }\n",
    "    .toMap()\n",
    "\n",
    "val Char.isValidSymbol get() = this != '.' && this !in '0'..'9'\n",
    "\n",
    "val grid = Grid(map)\n",
    "grid\n",
    "    .numbers\n",
    "    .filter { gridNumber ->\n",
    "        gridNumber\n",
    "            .adjacentPoints\n",
    "            .mapNotNull { point -> grid[point].takeIf { it.isValidSymbol } }\n",
    "            .isNotEmpty()\n",
    "    }\n",
    "    .map(GridNumber::value)\n",
    "    .sum()\n",
    "    \n",
    "\n",
    "\n",
    "// 550064 is correct!"
   ],
   "metadata": {
    "collapsed": false,
    "ExecuteTime": {
     "end_time": "2023-12-03T16:45:08.832745Z",
     "start_time": "2023-12-03T16:45:08.679015Z"
    }
   }
  },
  {
   "cell_type": "markdown",
   "source": [
    "# Part Two"
   ],
   "metadata": {
    "collapsed": false
   }
  },
  {
   "cell_type": "code",
   "execution_count": 292,
   "outputs": [
    {
     "data": {
      "text/plain": "85010461"
     },
     "execution_count": 292,
     "metadata": {},
     "output_type": "execute_result"
    }
   ],
   "source": [
    "grid\n",
    "    .gears\n",
    "    .map { gear -> \n",
    "        val numbers = grid.numbers.filter { number -> \n",
    "            gear.adjacentPoints.any { point -> number.overlaps(point) } \n",
    "        }\n",
    "        if (numbers.size == 2) {\n",
    "            val (first, second) = numbers\n",
    "            first.value * second.value\n",
    "        } else {\n",
    "            0\n",
    "        }\n",
    "     }\n",
    "     .sum()"
   ],
   "metadata": {
    "collapsed": false,
    "ExecuteTime": {
     "end_time": "2023-12-03T16:45:12.236989Z",
     "start_time": "2023-12-03T16:45:12.118009Z"
    }
   }
  },
  {
   "cell_type": "markdown",
   "source": [
    "# Puzzle Input"
   ],
   "metadata": {
    "collapsed": false
   }
  },
  {
   "cell_type": "markdown",
   "source": [
    "## Sample Input"
   ],
   "metadata": {
    "collapsed": false
   }
  },
  {
   "cell_type": "code",
   "execution_count": 272,
   "outputs": [],
   "source": [
    "val input = \"\"\"\n",
    "467..114..\n",
    "...*......\n",
    "..35..633.\n",
    "......#...\n",
    "617*......\n",
    ".....+.58.\n",
    "..592.....\n",
    "......755.\n",
    "...$.*....\n",
    ".664.598..\n",
    "\"\"\".trimIndent()"
   ],
   "metadata": {
    "collapsed": false,
    "ExecuteTime": {
     "end_time": "2023-12-03T16:37:54.119110Z",
     "start_time": "2023-12-03T16:37:54.099030Z"
    }
   }
  },
  {
   "cell_type": "markdown",
   "source": [
    "## New line starting edge case input"
   ],
   "metadata": {
    "collapsed": false
   }
  },
  {
   "cell_type": "code",
   "execution_count": 216,
   "outputs": [],
   "source": [
    "val input = \"\"\"\n",
    ".*34\n",
    "34..\n",
    "\"\"\".trimIndent()"
   ],
   "metadata": {
    "collapsed": false,
    "ExecuteTime": {
     "end_time": "2023-12-03T15:36:53.638103Z",
     "start_time": "2023-12-03T15:36:53.619378Z"
    }
   }
  }
 ],
 "metadata": {
  "kernelspec": {
   "display_name": "Kotlin",
   "language": "kotlin",
   "name": "kotlin"
  },
  "language_info": {
   "name": "kotlin",
   "version": "1.9.0",
   "mimetype": "text/x-kotlin",
   "file_extension": ".kt",
   "pygments_lexer": "kotlin",
   "codemirror_mode": "text/x-kotlin",
   "nbconvert_exporter": ""
  }
 },
 "nbformat": 4,
 "nbformat_minor": 0
}
